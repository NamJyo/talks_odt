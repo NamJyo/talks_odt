{
 "cells": [
  {
   "cell_type": "code",
   "execution_count": 6,
   "metadata": {
    "collapsed": false
   },
   "outputs": [],
   "source": [
    "# %load /home/andy/checkout/word_cloud/examples/a_new_hope.py\n",
    "#!/usr/bin/env python2\n",
    "\"\"\"\n",
    "Using custom colors\n",
    "====================\n",
    "Using the recolor method and custom coloring functions.\n",
    "\"\"\"\n",
    "\n",
    "from os import path\n",
    "from scipy.misc import imread\n",
    "import matplotlib.pyplot as plt\n",
    "import random\n",
    "\n",
    "\n",
    "\n",
    "def grey_color_func(word, font_size, position, orientation, random_state=None, **kwargs):\n",
    "    return \"hsl(0, 0%%, %d%%)\" % random.randint(60, 100)\n",
    "\n",
    "d = \"/home/andy/checkout/word_cloud/examples/\"\n",
    "\n",
    "\n",
    "mask = imread(path.join(d, \"stormtrooper_mask.png\"))\n",
    "\n",
    "text = open(path.join(d, \"a_new_hope.txt\")).read()\n",
    "\n",
    "# preprocessing the text a little bit\n",
    "text = text.replace(\"HAN\", \"Han\")\n",
    "text = text.replace(\"LUKE'S\", \"Luke\")\n",
    "\n",
    "text = text.replace(\"INT\", \"\")\n",
    "text = text.replace(\"EXT\", \"\")\n",
    "\n",
    "from wordcloud import WordCloud\n",
    "\n",
    "wc = WordCloud(mask=mask).generate(text)\n",
    "wc.recolor(color_func=grey_color_func)\n",
    "\n",
    "plt.imshow(wc)\n",
    "\n"
   ]
  },
  {
   "cell_type": "code",
   "execution_count": null,
   "metadata": {
    "collapsed": true
   },
   "outputs": [],
   "source": []
  }
 ],
 "metadata": {
  "kernelspec": {
   "display_name": "Python 2",
   "language": "python",
   "name": "python2"
  },
  "language_info": {
   "codemirror_mode": {
    "name": "ipython",
    "version": 2
   },
   "file_extension": ".py",
   "mimetype": "text/x-python",
   "name": "python",
   "nbconvert_exporter": "python",
   "pygments_lexer": "ipython2",
   "version": "2.7.9"
  }
 },
 "nbformat": 4,
 "nbformat_minor": 0
}
